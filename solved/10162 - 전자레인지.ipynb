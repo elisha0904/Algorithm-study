{
 "cells": [
  {
   "cell_type": "code",
   "execution_count": 36,
   "id": "b0ad1403",
   "metadata": {},
   "outputs": [
    {
     "name": "stdout",
     "output_type": "stream",
     "text": [
      "100\n",
      "0 1 4\n"
     ]
    }
   ],
   "source": [
    "t = int(input())\n",
    "\n",
    "if t%10 != 0 or t==0:\n",
    "    print(-1)\n",
    "else:\n",
    "    a = t//300\n",
    "    b = (t%300)//60\n",
    "    c = (t%300)%60//10\n",
    "    print(a, b, c)"
   ]
  },
  {
   "cell_type": "code",
   "execution_count": 33,
   "id": "fb127c68",
   "metadata": {},
   "outputs": [
    {
     "name": "stdout",
     "output_type": "stream",
     "text": [
      "정수 입력50\n",
      "0 0 5\n"
     ]
    }
   ],
   "source": [
    "t = int(input(\"정수 입력\"))\n",
    "\n",
    "a, t2 = divmod(t,300)\n",
    "b, t3 = divmod(t2,60)\n",
    "c, t4 = divmod(t3,10)\n",
    "\n",
    "if t4==0 :\n",
    "    print(a, b, c)\n",
    "else:\n",
    "    print(-1)"
   ]
  },
  {
   "cell_type": "code",
   "execution_count": null,
   "id": "13f721e5",
   "metadata": {},
   "outputs": [],
   "source": [
    "# int(inout()) 말고 int(input(\"정수 입력\"))로 썼다고 결과 틀리다고 나옴..."
   ]
  }
 ],
 "metadata": {
  "kernelspec": {
   "display_name": "Python 3 (ipykernel)",
   "language": "python",
   "name": "python3"
  },
  "language_info": {
   "codemirror_mode": {
    "name": "ipython",
    "version": 3
   },
   "file_extension": ".py",
   "mimetype": "text/x-python",
   "name": "python",
   "nbconvert_exporter": "python",
   "pygments_lexer": "ipython3",
   "version": "3.9.7"
  }
 },
 "nbformat": 4,
 "nbformat_minor": 5
}
