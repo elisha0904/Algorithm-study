{
 "cells": [
  {
   "cell_type": "code",
   "execution_count": 40,
   "id": "00a161d8",
   "metadata": {},
   "outputs": [
    {
     "name": "stdout",
     "output_type": "stream",
     "text": [
      "7 3 2 750\n",
      "3000\n"
     ]
    }
   ],
   "source": [
    "N, T, C, P = input().split()\n",
    "N, T, C, P = int(N), int(T), int(C), int(P)\n",
    "\n",
    "print((N-1)//T * C * P)"
   ]
  },
  {
   "cell_type": "code",
   "execution_count": null,
   "id": "e1e88b46",
   "metadata": {},
   "outputs": [],
   "source": [
    "# 처음 시도했던 코드 (왜 틀렸는지 이유를 모르겠음)\n",
    "\n",
    "N, T, C, P = input().split()\n",
    "N, T, C, P = int(N), int(T), int(C), int(P)\n",
    "\n",
    "x = 1\n",
    "while x+T < N:\n",
    "    x = x+T\n",
    "\n",
    "print(x//T * C * P)"
   ]
  }
 ],
 "metadata": {
  "kernelspec": {
   "display_name": "Python 3 (ipykernel)",
   "language": "python",
   "name": "python3"
  },
  "language_info": {
   "codemirror_mode": {
    "name": "ipython",
    "version": 3
   },
   "file_extension": ".py",
   "mimetype": "text/x-python",
   "name": "python",
   "nbconvert_exporter": "python",
   "pygments_lexer": "ipython3",
   "version": "3.9.7"
  }
 },
 "nbformat": 4,
 "nbformat_minor": 5
}